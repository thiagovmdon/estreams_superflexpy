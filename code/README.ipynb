{
 "cells": [
  {
   "cell_type": "markdown",
   "id": "ff925032",
   "metadata": {},
   "source": [
    "# Project Summary\n",
    "\n",
    "## Introduction\n",
    "This project contains all the code that has been used for the paper: \"Can more detailed geological maps improve the prediction in ungauged basins?\" by do Nascimento et al. (in review). To be able to run this notebook, please ensure that you have downloaded the acompanying data of the paper. All links can be found in the manuscript data section.\n",
    "\n",
    "\n",
    "## Content\n",
    "This project includes the following notebooks:\n",
    "\n",
    "- [Part A: Filtering gauges and creating groups](./Part-A-filtering-preprocessing-groups.ipynb)\n",
    "- [Part B: Creating and exporting the input files](./Part-B-export-input-files.ipynb)\n",
    "- [Part C: Model Training](./cluster/)\n",
    "- [Part D: Model evaluation using no-geology](./Part-D-model-evaluation-no-geology.ipynb)\n",
    "- [Part E: Model evaluation using geology](./Part-E-model-evaluation-geology.ipynb)\n",
    "- [Part F: Figures and analysis](./Part-F-figures-and-analysis.ipynb)"
   ]
  },
  {
   "cell_type": "markdown",
   "id": "245148cb",
   "metadata": {},
   "source": [
    "## End"
   ]
  }
 ],
 "metadata": {
  "language_info": {
   "name": "python"
  }
 },
 "nbformat": 4,
 "nbformat_minor": 5
}
